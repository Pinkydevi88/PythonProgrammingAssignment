{
 "cells": [
  {
   "cell_type": "markdown",
   "id": "fc67976f",
   "metadata": {},
   "source": [
    "Q1:Write a Python program to print \"Hello Python\"?"
   ]
  },
  {
   "cell_type": "markdown",
   "id": "7254a413",
   "metadata": {},
   "source": [
    "Ans:"
   ]
  },
  {
   "cell_type": "code",
   "execution_count": 1,
   "id": "c26d4d68",
   "metadata": {},
   "outputs": [
    {
     "name": "stdout",
     "output_type": "stream",
     "text": [
      "Hello Python\n"
     ]
    }
   ],
   "source": [
    "import logging\n",
    "logging.basicConfig(filename=\"print.log\", level=logging.DEBUG)\n",
    "\n",
    "class read():\n",
    "    def __init__(self):\n",
    "        logging.info(\"Creating file and executing print method\")\n",
    "        print(\"Hello Python\")\n",
    "\n",
    "x = read()"
   ]
  },
  {
   "cell_type": "markdown",
   "id": "46f55645",
   "metadata": {},
   "source": [
    "Q2:Write a Python program to do arithmetical operations addition and division.?"
   ]
  },
  {
   "cell_type": "markdown",
   "id": "0cb31690",
   "metadata": {},
   "source": [
    "Ans:"
   ]
  },
  {
   "cell_type": "code",
   "execution_count": 2,
   "id": "7c790c7e",
   "metadata": {},
   "outputs": [
    {
     "name": "stdout",
     "output_type": "stream",
     "text": [
      "Enter First number :2\n",
      "Enter Second number :4\n",
      "the addition is: 6\n",
      "the division is: 0.5\n"
     ]
    }
   ],
   "source": [
    "import logging\n",
    "logging.basicConfig(filename='operations.log', level = logging.DEBUG)\n",
    "\n",
    "\n",
    "a = int(input(\"Enter First number :\"))\n",
    "b = int(input(\"Enter Second number :\"))\n",
    "class operations:\n",
    "    def __init__(self, a,b):\n",
    "        logging.info(\"creating file for addition and division\")\n",
    "        self.a = a\n",
    "        self.b = b\n",
    "     \n",
    "    def add(self):\n",
    "        logging.info(\"addition\")\n",
    "        return(print(\"the addition is:\" , a+b))\n",
    "    \n",
    "    def div(self):\n",
    "        logging.info(\"division\")\n",
    "        return(print(\"the division is:\" , a/b))\n",
    "    \n",
    "x = operations(a,b)\n",
    "x.add()\n",
    "x.div()"
   ]
  },
  {
   "cell_type": "markdown",
   "id": "b429a7c2",
   "metadata": {},
   "source": [
    "Q3:Write a Python program to find the area of a triangle?\n"
   ]
  },
  {
   "cell_type": "markdown",
   "id": "52fbb39f",
   "metadata": {},
   "source": [
    "Ans:\n"
   ]
  },
  {
   "cell_type": "code",
   "execution_count": 3,
   "id": "25e0870e",
   "metadata": {
    "scrolled": true
   },
   "outputs": [
    {
     "name": "stdout",
     "output_type": "stream",
     "text": [
      "Enter base of a triangle:22\n",
      "Enter height of a triangle:33\n",
      "The area of triangle is: 363.0\n"
     ]
    }
   ],
   "source": [
    "import logging\n",
    "logging.basicConfig(filename=\"trianglelog.log\", level = logging.DEBUG)\n",
    "\n",
    "base= int(input(\"Enter base of a triangle:\"))\n",
    "height= int(input(\"Enter height of a triangle:\"))\n",
    "\n",
    "class area_of_triangle:\n",
    "    def __init__(self,base,height):\n",
    "        logging.info(\"Taking values of base and height\")\n",
    "        self.base=base\n",
    "        self.height=height\n",
    "        \n",
    "    def area(self):\n",
    "        logging.info(\"Executing area of triangle\")\n",
    "        a = (base*height)/2\n",
    "        return (print(\"The area of triangle is:\", a))\n",
    "    \n",
    "y = area_of_triangle(base,height)\n",
    "y.area()"
   ]
  },
  {
   "cell_type": "markdown",
   "id": "60d7caef",
   "metadata": {},
   "source": [
    "Q4:Write a Python program to swap two variables?"
   ]
  },
  {
   "cell_type": "markdown",
   "id": "697b549e",
   "metadata": {},
   "source": [
    "Ans:"
   ]
  },
  {
   "cell_type": "code",
   "execution_count": 4,
   "id": "33b7390b",
   "metadata": {},
   "outputs": [
    {
     "name": "stdout",
     "output_type": "stream",
     "text": [
      "Enter first number:44\n",
      "Enter second number:33\n",
      "The swapping of first number is : 33 The swapping of second number is : 44\n"
     ]
    }
   ],
   "source": [
    "import logging\n",
    "logging.basicConfig(filename=\"swapping.log\", level = logging.DEBUG)\n",
    "\n",
    "first= int(input(\"Enter first number:\"))\n",
    "second= int(input(\"Enter second number:\"))\n",
    "\n",
    "class swapping:\n",
    "    def __init__(self,first,second):\n",
    "        logging.info(\"Taking values of both numbers\")\n",
    "        self.first=first\n",
    "        self.second=second\n",
    "        logging.info(\"Executing swapping\")\n",
    "        first = first ^ second\n",
    "        second = first ^ second\n",
    "        first = first ^ second        \n",
    "        return(print(\"The swapping of first number is :\", first, \"The swapping of second number is :\", second ))\n",
    "    \n",
    "z = swapping(first,second)"
   ]
  },
  {
   "cell_type": "markdown",
   "id": "6491fc44",
   "metadata": {},
   "source": [
    "Q5 : Write a Python program to generate a random number?"
   ]
  },
  {
   "cell_type": "markdown",
   "id": "97234a05",
   "metadata": {},
   "source": [
    "Ans:"
   ]
  },
  {
   "cell_type": "code",
   "execution_count": 6,
   "id": "6e862313",
   "metadata": {},
   "outputs": [
    {
     "name": "stdout",
     "output_type": "stream",
     "text": [
      "The random value is [11]\n"
     ]
    }
   ],
   "source": [
    "import random\n",
    "import logging\n",
    "logging.basicConfig(filename=\"random.log\", level = logging.DEBUG)\n",
    "\n",
    "randomlist = []\n",
    "class randomclass:\n",
    "    def __init__(self,randomlist):\n",
    "        logging.info(\"generating random values \")\n",
    "        self.randomlist = randomlist\n",
    "        \n",
    "    def random(self):\n",
    "        for i in range(1):\n",
    "            n = random.randint(1,30)\n",
    "            randomlist.append(n)\n",
    "            return (print(\"The random value is\", randomlist))\n",
    "\n",
    "r = randomclass(randomlist)\n",
    "r.random()"
   ]
  },
  {
   "cell_type": "code",
   "execution_count": null,
   "id": "7f4ef768",
   "metadata": {},
   "outputs": [],
   "source": []
  }
 ],
 "metadata": {
  "kernelspec": {
   "display_name": "Python 3 (ipykernel)",
   "language": "python",
   "name": "python3"
  },
  "language_info": {
   "codemirror_mode": {
    "name": "ipython",
    "version": 3
   },
   "file_extension": ".py",
   "mimetype": "text/x-python",
   "name": "python",
   "nbconvert_exporter": "python",
   "pygments_lexer": "ipython3",
   "version": "3.9.12"
  }
 },
 "nbformat": 4,
 "nbformat_minor": 5
}
